{
 "cells": [
  {
   "cell_type": "code",
   "execution_count": 2,
   "metadata": {},
   "outputs": [],
   "source": [
    "import os\n",
    "import pandas as pd\n",
    "import numpy as np\n",
    "import seaborn as sns\n",
    "import matplotlib.pyplot as plt\n",
    "from sklearn.preprocessing import StandardScaler\n",
    "from sklearn.decomposition import PCA\n",
    "from adjustText import adjust_text\n",
    "import scipy.stats as stats"
   ]
  },
  {
   "cell_type": "markdown",
   "metadata": {},
   "source": [
    "# 1. Se cargan el conjunto de datos"
   ]
  },
  {
   "cell_type": "code",
   "execution_count": 3,
   "metadata": {},
   "outputs": [],
   "source": [
    "# Define la ruta base del proyecto (la raíz del proyecto)\n",
    "# Esto asume que el notebook está en la carpeta notebooks\n",
    "\n",
    "BASE_PATH = os.path.abspath('..')  # Esto asume que el notebook está en la carpeta notebooks\n",
    "\n",
    "PROCESSED_DATA_PATH = os.path.join(BASE_PATH, 'data', 'processed')\n",
    "\n",
    "X_TRAIN = 'X_train.csv'\n",
    "X_TEST = 'X_test.csv'\n",
    "X_VALID = 'X_valid.csv'\n",
    "\n",
    "Y_TRAIN = 'y_train.csv'\n",
    "Y_TEST = 'y_test.csv'\n",
    "Y_VALID = 'y_valid.csv'\n",
    "\n",
    "SEED = 123\n",
    "\n",
    "X_train = pd.read_csv(os.path.join(PROCESSED_DATA_PATH, X_TRAIN))\n",
    "X_test = pd.read_csv(os.path.join(PROCESSED_DATA_PATH, X_TEST))\n",
    "X_valid = pd.read_csv(os.path.join(PROCESSED_DATA_PATH, X_VALID))\n",
    "\n",
    "y_train = pd.read_csv(os.path.join(PROCESSED_DATA_PATH, Y_TRAIN))\n",
    "y_test = pd.read_csv(os.path.join(PROCESSED_DATA_PATH, Y_TEST))\n",
    "y_valid = pd.read_csv(os.path.join(PROCESSED_DATA_PATH, Y_VALID))"
   ]
  },
  {
   "cell_type": "code",
   "execution_count": null,
   "metadata": {},
   "outputs": [],
   "source": []
  }
 ],
 "metadata": {
  "kernelspec": {
   "display_name": "NoCountry",
   "language": "python",
   "name": "python3"
  },
  "language_info": {
   "codemirror_mode": {
    "name": "ipython",
    "version": 3
   },
   "file_extension": ".py",
   "mimetype": "text/x-python",
   "name": "python",
   "nbconvert_exporter": "python",
   "pygments_lexer": "ipython3",
   "version": "3.11.10"
  }
 },
 "nbformat": 4,
 "nbformat_minor": 2
}
